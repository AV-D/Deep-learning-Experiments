{
  "nbformat": 4,
  "nbformat_minor": 0,
  "metadata": {
    "colab": {
      "provenance": []
    },
    "kernelspec": {
      "name": "python3",
      "display_name": "Python 3"
    },
    "language_info": {
      "name": "python"
    }
  },
  "cells": [
    {
      "cell_type": "markdown",
      "source": [
        "**QMNIST**"
      ],
      "metadata": {
        "id": "YLqjp5hbpafh"
      }
    },
    {
      "cell_type": "code",
      "execution_count": 1,
      "metadata": {
        "id": "BUoMmD70o5rD"
      },
      "outputs": [],
      "source": [
        "# import the necessary libraries\n",
        "import torch\n",
        "import torch.nn as nn\n",
        "import torch.optim as optim\n",
        "import torchvision\n",
        "import torchvision.transforms as transforms\n",
        "from torch.utils.data import DataLoader\n",
        "import matplotlib.pyplot as plt"
      ]
    },
    {
      "cell_type": "code",
      "source": [
        "# Load Fashion QMNIST dataset\n",
        "transform = transforms.Compose([transforms.ToTensor(), transforms.Normalize((0.5,), (0.5,))])\n",
        "train_dataset = torchvision.datasets.QMNIST(root='./data', train=True, download=True, transform=transform) # load the training data\n",
        "test_dataset = torchvision.datasets.QMNIST(root='./data', train=False, download=True, transform=transform) # load the test data\n",
        "\n",
        "# Create data loaders\n",
        "train_loader = DataLoader(train_dataset, batch_size=64, shuffle=True)\n",
        "test_loader = DataLoader(test_dataset, batch_size=64, shuffle=False)"
      ],
      "metadata": {
        "colab": {
          "base_uri": "https://localhost:8080/"
        },
        "id": "h-BAu3iP9UmO",
        "outputId": "7622dd8c-e6e1-46d4-b6f8-2b9905591229"
      },
      "execution_count": 2,
      "outputs": [
        {
          "output_type": "stream",
          "name": "stdout",
          "text": [
            "Downloading https://raw.githubusercontent.com/facebookresearch/qmnist/master/qmnist-train-images-idx3-ubyte.gz to ./data/QMNIST/raw/qmnist-train-images-idx3-ubyte.gz\n"
          ]
        },
        {
          "output_type": "stream",
          "name": "stderr",
          "text": [
            "100%|██████████| 9704059/9704059 [00:00<00:00, 72556319.58it/s]\n"
          ]
        },
        {
          "output_type": "stream",
          "name": "stdout",
          "text": [
            "Extracting ./data/QMNIST/raw/qmnist-train-images-idx3-ubyte.gz to ./data/QMNIST/raw\n",
            "Downloading https://raw.githubusercontent.com/facebookresearch/qmnist/master/qmnist-train-labels-idx2-int.gz to ./data/QMNIST/raw/qmnist-train-labels-idx2-int.gz\n"
          ]
        },
        {
          "output_type": "stream",
          "name": "stderr",
          "text": [
            "100%|██████████| 463024/463024 [00:00<00:00, 11928403.75it/s]"
          ]
        },
        {
          "output_type": "stream",
          "name": "stdout",
          "text": [
            "Extracting ./data/QMNIST/raw/qmnist-train-labels-idx2-int.gz to ./data/QMNIST/raw\n"
          ]
        },
        {
          "output_type": "stream",
          "name": "stderr",
          "text": [
            "\n"
          ]
        },
        {
          "output_type": "stream",
          "name": "stdout",
          "text": [
            "Downloading https://raw.githubusercontent.com/facebookresearch/qmnist/master/qmnist-test-images-idx3-ubyte.gz to ./data/QMNIST/raw/qmnist-test-images-idx3-ubyte.gz\n"
          ]
        },
        {
          "output_type": "stream",
          "name": "stderr",
          "text": [
            "100%|██████████| 9742279/9742279 [00:00<00:00, 100486866.25it/s]"
          ]
        },
        {
          "output_type": "stream",
          "name": "stdout",
          "text": [
            "Extracting ./data/QMNIST/raw/qmnist-test-images-idx3-ubyte.gz to ./data/QMNIST/raw\n"
          ]
        },
        {
          "output_type": "stream",
          "name": "stderr",
          "text": [
            "\n"
          ]
        },
        {
          "output_type": "stream",
          "name": "stdout",
          "text": [
            "Downloading https://raw.githubusercontent.com/facebookresearch/qmnist/master/qmnist-test-labels-idx2-int.gz to ./data/QMNIST/raw/qmnist-test-labels-idx2-int.gz\n"
          ]
        },
        {
          "output_type": "stream",
          "name": "stderr",
          "text": [
            "100%|██████████| 526800/526800 [00:00<00:00, 11354014.51it/s]"
          ]
        },
        {
          "output_type": "stream",
          "name": "stdout",
          "text": [
            "Extracting ./data/QMNIST/raw/qmnist-test-labels-idx2-int.gz to ./data/QMNIST/raw\n"
          ]
        },
        {
          "output_type": "stream",
          "name": "stderr",
          "text": [
            "\n"
          ]
        }
      ]
    },
    {
      "cell_type": "code",
      "source": [
        "# labels for the data\n",
        "labels_map = {\n",
        "    0: \"Zero\",\n",
        "    1: \"One\",\n",
        "    2: \"Two\",\n",
        "    3: \"Three\",\n",
        "    4: \"Four\",\n",
        "    5: \"Five\",\n",
        "    6: \"Six\",\n",
        "    7: \"Seven\",\n",
        "    8: \"Eight\",\n",
        "    9: \"Nine\",\n",
        "}\n",
        "\n",
        "# display the training data\n",
        "figure = plt.figure(figsize=(10, 10))\n",
        "cols, rows = 3, 3\n",
        "for i in range(1, cols * rows + 1):\n",
        "    sample_idx = torch.randint(len(train_dataset), size=(1,)).item()\n",
        "    img, label = train_dataset[sample_idx]\n",
        "    figure.add_subplot(rows, cols, i)\n",
        "    plt.title(labels_map[label])\n",
        "    plt.axis(\"off\")\n",
        "    plt.imshow(img.squeeze(), cmap=\"gray\")\n",
        "plt.show()"
      ],
      "metadata": {
        "colab": {
          "base_uri": "https://localhost:8080/",
          "height": 829
        },
        "id": "_K3iJnoG9UqA",
        "outputId": "fdcd82f2-0502-45b9-fc20-dd56d0bb533f"
      },
      "execution_count": 3,
      "outputs": [
        {
          "output_type": "display_data",
          "data": {
            "text/plain": [
              "<Figure size 1000x1000 with 9 Axes>"
            ],
            "image/png": "[encoded data removed]"
          },
          "metadata": {}
        }
      ]
    },
    {
      "cell_type": "code",
      "source": [
        "# display the test data\n",
        "figure = plt.figure(figsize = (8,8))\n",
        "cols, rows = 3, 3\n",
        "for i in range(1, cols * rows +1):\n",
        "    sample = torch.randint(len(test_dataset), size = (1,)).item()\n",
        "    img, label = test_dataset[sample]\n",
        "    figure.add_subplot(rows, cols, i)\n",
        "    plt.title(labels_map[label])\n",
        "    plt.axis(\"off\")\n",
        "    plt.imshow(img.squeeze(), cmap = \"gray\")\n",
        "plt.show()"
      ],
      "metadata": {
        "colab": {
          "base_uri": "https://localhost:8080/",
          "height": 675
        },
        "id": "ykUaBmnZ9UvH",
        "outputId": "517ff37b-6ee0-4ac1-f312-3223e515c39e"
      },
      "execution_count": 4,
      "outputs": [
        {
          "output_type": "display_data",
          "data": {
            "text/plain": [
              "<Figure size 800x800 with 9 Axes>"
            ],
            "image/png": "[encoded data removed]"
          },
          "metadata": {}
        }
      ]
    },
    {
      "cell_type": "markdown",
      "source": [
        "**Build a simple neural network**"
      ],
      "metadata": {
        "id": "1Hbm5IgHI4de"
      }
    },
    {
      "cell_type": "code",
      "source": [
        "#Define the neural network architecture\n",
        "class MLP(nn.Module):\n",
        "    def __init__(self):\n",
        "        super(MLP, self).__init__()\n",
        "        self.fc1 = nn.Linear(28 * 28, 128)\n",
        "        self.fc2 = nn.Linear(128, 64)\n",
        "        self.fc3 = nn.Linear(64, 10)\n",
        "\n",
        "    def forward(self, x):\n",
        "        x = x.view(-1, 28 * 28)\n",
        "        x = torch.relu(self.fc1(x))\n",
        "        x = torch.relu(self.fc2(x))\n",
        "        x = self.fc3(x)\n",
        "        return x\n",
        "\n",
        "# Initialize the neural network\n",
        "model = MLP()"
      ],
      "metadata": {
        "id": "ykWfgO3g9U2F"
      },
      "execution_count": 5,
      "outputs": []
    },
    {
      "cell_type": "code",
      "source": [
        "# Define the loss function and optimizer\n",
        "criterion = nn.CrossEntropyLoss()\n",
        "optimizer = optim.Adam(model.parameters(), lr=0.001)\n",
        "\n",
        "# Train the neural network\n",
        "num_epochs = 5\n",
        "for epoch in range(num_epochs):\n",
        "    model.train()\n",
        "    running_loss = 0.0\n",
        "    for i, data in enumerate(train_loader, 0):\n",
        "        inputs, labels = data\n",
        "        optimizer.zero_grad()\n",
        "        outputs = model(inputs)\n",
        "        loss = criterion(outputs, labels)\n",
        "        loss.backward()\n",
        "        optimizer.step()\n",
        "        running_loss += loss.item()\n",
        "        if i % 100 == 99:  # print every 100 mini-batches\n",
        "            print(f'Epoch {epoch + 1}, Batch {i + 1}, Loss: {running_loss / 100}')\n",
        "            running_loss = 0.0\n",
        "\n",
        "print('Finished Training')"
      ],
      "metadata": {
        "colab": {
          "base_uri": "https://localhost:8080/"
        },
        "id": "wK-RrwA29U6E",
        "outputId": "d4f3bf76-188e-48f2-d4d3-896999fa1174"
      },
      "execution_count": 6,
      "outputs": [
        {
          "output_type": "stream",
          "name": "stdout",
          "text": [
            "Epoch 1, Batch 100, Loss: 1.059474121928215\n",
            "Epoch 1, Batch 200, Loss: 0.43293350279331205\n",
            "Epoch 1, Batch 300, Loss: 0.39000640615820886\n",
            "Epoch 1, Batch 400, Loss: 0.35130963787436487\n",
            "Epoch 1, Batch 500, Loss: 0.33830813348293304\n",
            "Epoch 1, Batch 600, Loss: 0.2941129910200834\n",
            "Epoch 1, Batch 700, Loss: 0.2765781215578318\n",
            "Epoch 1, Batch 800, Loss: 0.25149495467543603\n",
            "Epoch 1, Batch 900, Loss: 0.24565840892493726\n",
            "Epoch 2, Batch 100, Loss: 0.20900701940059663\n",
            "Epoch 2, Batch 200, Loss: 0.1952858066558838\n",
            "Epoch 2, Batch 300, Loss: 0.20477233674377204\n",
            "Epoch 2, Batch 400, Loss: 0.21655787982046604\n",
            "Epoch 2, Batch 500, Loss: 0.18020891193300487\n",
            "Epoch 2, Batch 600, Loss: 0.18346218891441823\n",
            "Epoch 2, Batch 700, Loss: 0.18171894639730454\n",
            "Epoch 2, Batch 800, Loss: 0.16664969727396964\n",
            "Epoch 2, Batch 900, Loss: 0.17141372945159675\n",
            "Epoch 3, Batch 100, Loss: 0.13516562921926378\n",
            "Epoch 3, Batch 200, Loss: 0.13368277044966817\n",
            "Epoch 3, Batch 300, Loss: 0.1476440789923072\n",
            "Epoch 3, Batch 400, Loss: 0.14339552296325564\n",
            "Epoch 3, Batch 500, Loss: 0.14738724406808615\n",
            "Epoch 3, Batch 600, Loss: 0.1159042324591428\n",
            "Epoch 3, Batch 700, Loss: 0.13004179544746874\n",
            "Epoch 3, Batch 800, Loss: 0.13885083980858326\n",
            "Epoch 3, Batch 900, Loss: 0.12176335137337446\n",
            "Epoch 4, Batch 100, Loss: 0.110648461477831\n",
            "Epoch 4, Batch 200, Loss: 0.1189741332642734\n",
            "Epoch 4, Batch 300, Loss: 0.09602680956944823\n",
            "Epoch 4, Batch 400, Loss: 0.10228332598228007\n",
            "Epoch 4, Batch 500, Loss: 0.10117356449365617\n",
            "Epoch 4, Batch 600, Loss: 0.1269773929938674\n",
            "Epoch 4, Batch 700, Loss: 0.10769646154716611\n",
            "Epoch 4, Batch 800, Loss: 0.1103738365881145\n",
            "Epoch 4, Batch 900, Loss: 0.10224815355613828\n",
            "Epoch 5, Batch 100, Loss: 0.08865838054567575\n",
            "Epoch 5, Batch 200, Loss: 0.08705926567316055\n",
            "Epoch 5, Batch 300, Loss: 0.09694190699607134\n",
            "Epoch 5, Batch 400, Loss: 0.08633134069852531\n",
            "Epoch 5, Batch 500, Loss: 0.0928278767131269\n",
            "Epoch 5, Batch 600, Loss: 0.08931112896651029\n",
            "Epoch 5, Batch 700, Loss: 0.09706192707177251\n",
            "Epoch 5, Batch 800, Loss: 0.09081392161548138\n",
            "Epoch 5, Batch 900, Loss: 0.09684680065140128\n",
            "Finished Training\n"
          ]
        }
      ]
    },
    {
      "cell_type": "code",
      "source": [
        "# Evaluate the model on test data\n",
        "model.eval()\n",
        "correct = 0\n",
        "total = 0\n",
        "with torch.no_grad():\n",
        "    for data in test_loader:\n",
        "        images, labels = data\n",
        "        outputs = model(images)\n",
        "        _, predicted = torch.max(outputs.data, 1)\n",
        "        total += labels.size(0)\n",
        "        correct += (predicted == labels).sum().item()\n",
        "\n",
        "print(f'Accuracy on test set: { correct / total * 100}%')"
      ],
      "metadata": {
        "colab": {
          "base_uri": "https://localhost:8080/"
        },
        "id": "iuH5nISy9U9Y",
        "outputId": "7e815844-d5b3-4f63-f820-3f68b58393ac"
      },
      "execution_count": 7,
      "outputs": [
        {
          "output_type": "stream",
          "name": "stdout",
          "text": [
            "Accuracy on test set: 96.53166666666667%\n"
          ]
        }
      ]
    },
    {
      "cell_type": "code",
      "source": [
        "# Evaluate the model on training data\n",
        "model.eval()\n",
        "correct = 0\n",
        "total = 0\n",
        "with torch.no_grad():\n",
        "    for data in train_loader:\n",
        "        images, labels = data\n",
        "        outputs = model(images)\n",
        "        _, predicted = torch.max(outputs.data, 1)\n",
        "        total += labels.size(0)\n",
        "        correct += (predicted == labels).sum().item()\n",
        "\n",
        "print(f'Accuracy on train set: { correct / total * 100}%')"
      ],
      "metadata": {
        "colab": {
          "base_uri": "https://localhost:8080/"
        },
        "id": "CP4cOl7tG5yB",
        "outputId": "f4c5236e-a5ba-451a-8fed-f03dfe0406d2"
      },
      "execution_count": 8,
      "outputs": [
        {
          "output_type": "stream",
          "name": "stdout",
          "text": [
            "Accuracy on train set: 97.55666666666667%\n"
          ]
        }
      ]
    },
    {
      "cell_type": "code",
      "source": [
        "# Evaluate the model and store predictions\n",
        "model.eval()\n",
        "predictions = []\n",
        "correct = 0\n",
        "total = 0\n",
        "with torch.no_grad():\n",
        "    for data in test_loader:\n",
        "        images, labels = data\n",
        "        outputs = model(images)\n",
        "        _, predicted = torch.max(outputs.data, 1)\n",
        "        predictions.extend(predicted.numpy())\n",
        "        total += labels.size(0)\n",
        "        correct += (predicted == labels).sum().item()"
      ],
      "metadata": {
        "id": "-LHbPDjT9VBl"
      },
      "execution_count": 9,
      "outputs": []
    },
    {
      "cell_type": "code",
      "source": [
        "import random\n",
        "import matplotlib.pyplot as plt\n",
        "\n",
        "# Get a random index for the test data\n",
        "random_index = random.randint(0, len(test_dataset) - 1)\n",
        "\n",
        "# Get the image and label at the random index\n",
        "image, label = test_dataset[random_index]\n",
        "\n",
        "# Reshape the image tensor to a 28x28 shape\n",
        "image = image.view(28, 28)\n",
        "\n",
        "# Convert the image tensor to a numpy array for visualization\n",
        "image_numpy = image.numpy()\n",
        "\n",
        "# Assuming 'predictions' contains the predicted labels for the test data\n",
        "predicted_label = predictions[random_index]\n",
        "\n",
        "# Display the image with both predicted and actual labels\n",
        "plt.imshow(image_numpy, cmap='gray')\n",
        "plt.title(f'Predicted Label: {predicted_label}, Actual Label: {label}')\n",
        "plt.axis('off')\n",
        "plt.show()\n"
      ],
      "metadata": {
        "colab": {
          "base_uri": "https://localhost:8080/",
          "height": 428
        },
        "id": "Jjj8X8Bz9VJL",
        "outputId": "2378e57f-c9de-4b93-a958-c445d51e680a"
      },
      "execution_count": 10,
      "outputs": [
        {
          "output_type": "display_data",
          "data": {
            "text/plain": [
              "<Figure size 640x480 with 1 Axes>"
            ],
            "image/png": "[encoded data removed]"
          },
          "metadata": {}
        }
      ]
    },
    {
      "cell_type": "markdown",
      "source": [
        "Hypothesiz Changes:\n"
      ],
      "metadata": {
        "id": "NTnYDgQTQLoR"
      }
    },
    {
      "cell_type": "markdown",
      "source": [
        "Modification 1: We add another dense layer of 128 nodes.\n",
        "\n",
        "Effect: Adding another layer makes the network more dense. This has potential positive and negative effects. A deeper network enhances its capacity to learn complex representations. It can capture more finer details in the input data and also better represent the underlying function.\n",
        "\n",
        "But there is risk of the network overfitting.\n"
      ],
      "metadata": {
        "id": "BaLwYsLlQUz2"
      }
    },
    {
      "cell_type": "code",
      "source": [
        "class MLP1(nn.Module):\n",
        "    def __init__(self):\n",
        "        super(MLP1, self).__init__()\n",
        "        self.fc1 = nn.Linear(28 * 28, 128)\n",
        "        self.fc2 = nn.Linear(128, 128)  # New layer with 128 nodes\n",
        "        self.fc3 = nn.Linear(128, 64)\n",
        "        self.fc4 = nn.Linear(64, 10)\n",
        "\n",
        "    def forward(self, x):\n",
        "        x = x.view(-1, 28 * 28)\n",
        "        x = torch.relu(self.fc1(x))\n",
        "        x = torch.relu(self.fc2(x))\n",
        "        x = torch.relu(self.fc3(x))\n",
        "        x = self.fc4(x)\n",
        "        return x\n",
        "\n",
        "# Initialize the neural network\n",
        "model1 = MLP1()\n"
      ],
      "metadata": {
        "id": "X-JO7bN99VM8"
      },
      "execution_count": 11,
      "outputs": []
    },
    {
      "cell_type": "code",
      "source": [
        "# Define the loss function and optimizer\n",
        "criterion = nn.CrossEntropyLoss()\n",
        "optimizer = optim.Adam(model1.parameters(), lr=0.001, weight_decay=0.001)\n",
        "\n",
        "# Train the neural network\n",
        "num_epochs = 5\n",
        "for epoch in range(num_epochs):\n",
        "    model1.train()\n",
        "    running_loss = 0.0\n",
        "    for i, data in enumerate(train_loader, 0):\n",
        "        inputs, labels = data\n",
        "        optimizer.zero_grad()\n",
        "        outputs = model1(inputs)\n",
        "        loss = criterion(outputs, labels)\n",
        "        loss.backward()\n",
        "        optimizer.step()\n",
        "        running_loss += loss.item()\n",
        "        if i % 100 == 99:  # print every 100 mini-batches\n",
        "            print(f'Epoch {epoch + 1}, Batch {i + 1}, Loss: {running_loss / 100}')\n",
        "            running_loss = 0.0\n",
        "\n",
        "print('Finished Training')"
      ],
      "metadata": {
        "colab": {
          "base_uri": "https://localhost:8080/"
        },
        "id": "jU9DjkX69VRG",
        "outputId": "ffedf65f-2034-4354-a11e-06067ab60727"
      },
      "execution_count": 12,
      "outputs": [
        {
          "output_type": "stream",
          "name": "stdout",
          "text": [
            "Epoch 1, Batch 100, Loss: 1.1055591744184494\n",
            "Epoch 1, Batch 200, Loss: 0.4554111798107624\n",
            "Epoch 1, Batch 300, Loss: 0.3768625222146511\n",
            "Epoch 1, Batch 400, Loss: 0.339099614918232\n",
            "Epoch 1, Batch 500, Loss: 0.2907691603153944\n",
            "Epoch 1, Batch 600, Loss: 0.28654904663562775\n",
            "Epoch 1, Batch 700, Loss: 0.27841122016310693\n",
            "Epoch 1, Batch 800, Loss: 0.2711918653547764\n",
            "Epoch 1, Batch 900, Loss: 0.23074962362647056\n",
            "Epoch 2, Batch 100, Loss: 0.1978413340821862\n",
            "Epoch 2, Batch 200, Loss: 0.20353757448494433\n",
            "Epoch 2, Batch 300, Loss: 0.1886423235014081\n",
            "Epoch 2, Batch 400, Loss: 0.1751479934900999\n",
            "Epoch 2, Batch 500, Loss: 0.18393206108361482\n",
            "Epoch 2, Batch 600, Loss: 0.17032238252460957\n",
            "Epoch 2, Batch 700, Loss: 0.18919636212289334\n",
            "Epoch 2, Batch 800, Loss: 0.16783461663872004\n",
            "Epoch 2, Batch 900, Loss: 0.17734327349811793\n",
            "Epoch 3, Batch 100, Loss: 0.1484620236977935\n",
            "Epoch 3, Batch 200, Loss: 0.15799244631081819\n",
            "Epoch 3, Batch 300, Loss: 0.14530923567712306\n",
            "Epoch 3, Batch 400, Loss: 0.14623862568289042\n",
            "Epoch 3, Batch 500, Loss: 0.14279703030362725\n",
            "Epoch 3, Batch 600, Loss: 0.1420425151474774\n",
            "Epoch 3, Batch 700, Loss: 0.13394855581223963\n",
            "Epoch 3, Batch 800, Loss: 0.1345284709148109\n",
            "Epoch 3, Batch 900, Loss: 0.14624084001407028\n",
            "Epoch 4, Batch 100, Loss: 0.1281946412101388\n",
            "Epoch 4, Batch 200, Loss: 0.1327433350123465\n",
            "Epoch 4, Batch 300, Loss: 0.12998984176665546\n",
            "Epoch 4, Batch 400, Loss: 0.1343721817806363\n",
            "Epoch 4, Batch 500, Loss: 0.1385478781722486\n",
            "Epoch 4, Batch 600, Loss: 0.12241826545447111\n",
            "Epoch 4, Batch 700, Loss: 0.11857922088354826\n",
            "Epoch 4, Batch 800, Loss: 0.11068618705496192\n",
            "Epoch 4, Batch 900, Loss: 0.12228197179734707\n",
            "Epoch 5, Batch 100, Loss: 0.11568537562154234\n",
            "Epoch 5, Batch 200, Loss: 0.11150502894073724\n",
            "Epoch 5, Batch 300, Loss: 0.1158728620968759\n",
            "Epoch 5, Batch 400, Loss: 0.10890831600874662\n",
            "Epoch 5, Batch 500, Loss: 0.10840308725833893\n",
            "Epoch 5, Batch 600, Loss: 0.12446401543915271\n",
            "Epoch 5, Batch 700, Loss: 0.11857285111211241\n",
            "Epoch 5, Batch 800, Loss: 0.1179028694704175\n",
            "Epoch 5, Batch 900, Loss: 0.10802459822036325\n",
            "Finished Training\n"
          ]
        }
      ]
    },
    {
      "cell_type": "code",
      "source": [
        "# Evaluate the model\n",
        "model1.eval()\n",
        "correct = 0\n",
        "total = 0\n",
        "with torch.no_grad():\n",
        "    for data in test_loader:\n",
        "        images, labels = data\n",
        "        outputs = model1(images)\n",
        "        _, predicted = torch.max(outputs.data, 1)\n",
        "        total += labels.size(0)\n",
        "        correct += (predicted == labels).sum().item()\n",
        "\n",
        "print(f'Accuracy on test set: { correct / total * 100}%')"
      ],
      "metadata": {
        "colab": {
          "base_uri": "https://localhost:8080/"
        },
        "id": "vWMoeh49TGPq",
        "outputId": "712d8eb4-ab4c-4f40-fcd4-fad16b54f97e"
      },
      "execution_count": 13,
      "outputs": [
        {
          "output_type": "stream",
          "name": "stdout",
          "text": [
            "Accuracy on test set: 95.895%\n"
          ]
        }
      ]
    },
    {
      "cell_type": "code",
      "source": [
        "# Evaluate the model\n",
        "model1.eval()\n",
        "correct = 0\n",
        "total = 0\n",
        "with torch.no_grad():\n",
        "    for data in train_loader:\n",
        "        images, labels = data\n",
        "        outputs = model1(images)\n",
        "        _, predicted = torch.max(outputs.data, 1)\n",
        "        total += labels.size(0)\n",
        "        correct += (predicted == labels).sum().item()\n",
        "\n",
        "print(f'Accuracy on train set: { correct / total * 100}%')"
      ],
      "metadata": {
        "colab": {
          "base_uri": "https://localhost:8080/"
        },
        "id": "YDB5gHZ4TGUp",
        "outputId": "4551390d-e2e8-43ba-973b-e3ad14bbe98c"
      },
      "execution_count": 14,
      "outputs": [
        {
          "output_type": "stream",
          "name": "stdout",
          "text": [
            "Accuracy on train set: 96.74000000000001%\n"
          ]
        }
      ]
    },
    {
      "cell_type": "code",
      "source": [
        "# Evaluate the model and store predictions\n",
        "model1.eval()\n",
        "predictions1 = []\n",
        "correct = 0\n",
        "total = 0\n",
        "with torch.no_grad():\n",
        "    for data in test_loader:\n",
        "        images, labels = data\n",
        "        outputs = model1(images)\n",
        "        _, predicted = torch.max(outputs.data, 1)\n",
        "        predictions1.extend(predicted.numpy())\n",
        "        total += labels.size(0)\n",
        "        correct += (predicted == labels).sum().item()"
      ],
      "metadata": {
        "id": "6Lq3y1jYTGZG"
      },
      "execution_count": 15,
      "outputs": []
    },
    {
      "cell_type": "code",
      "source": [
        "import random\n",
        "import matplotlib.pyplot as plt\n",
        "\n",
        "# Get a random index for the test data\n",
        "random_index = random.randint(0, len(test_dataset) - 1)\n",
        "\n",
        "# Get the image and label at the random index\n",
        "image, label = test_dataset[random_index]\n",
        "\n",
        "# Reshape the image tensor to a 28x28 shape\n",
        "image = image.view(28, 28)\n",
        "\n",
        "# Convert the image tensor to a numpy array for visualization\n",
        "image_numpy = image.numpy()\n",
        "\n",
        "# Assuming 'predictions' contains the predicted labels for the test data\n",
        "predicted_label1 = predictions1[random_index]\n",
        "\n",
        "# Display the image with both predicted and actual labels\n",
        "plt.imshow(image_numpy, cmap='gray')\n",
        "plt.title(f'Predicted Label: {predicted_label1}, Actual Label: {label}')\n",
        "plt.axis('off')\n",
        "plt.show()"
      ],
      "metadata": {
        "colab": {
          "base_uri": "https://localhost:8080/",
          "height": 428
        },
        "id": "FvF-ru1GTGdl",
        "outputId": "005befd9-33dc-4d03-bfa9-390e73439d29"
      },
      "execution_count": 16,
      "outputs": [
        {
          "output_type": "display_data",
          "data": {
            "text/plain": [
              "<Figure size 640x480 with 1 Axes>"
            ],
            "image/png": "[encoded data removed]"
          },
          "metadata": {}
        }
      ]
    },
    {
      "cell_type": "markdown",
      "source": [
        "Though we assumed adding another dense layer will increase the performance of the model drastically, we observed that there was no significant improvement in the performance of the model."
      ],
      "metadata": {
        "id": "V5sjJMEwVITE"
      }
    },
    {
      "cell_type": "markdown",
      "source": [
        "# **Experimentation.**"
      ],
      "metadata": {
        "id": "SmhWB1UVZHz-"
      }
    },
    {
      "cell_type": "markdown",
      "source": [
        "1. Model with SGD Optimizer"
      ],
      "metadata": {
        "id": "1QlvsNIJaWzY"
      }
    },
    {
      "cell_type": "code",
      "source": [
        "#Define the neural network architecture\n",
        "class MLP(nn.Module):\n",
        "    def __init__(self):\n",
        "        super(MLP, self).__init__()\n",
        "        self.fc1 = nn.Linear(28 * 28, 128)\n",
        "        self.fc2 = nn.Linear(128, 64)\n",
        "        self.fc3 = nn.Linear(64, 10)\n",
        "\n",
        "    def forward(self, x):\n",
        "        x = x.view(-1, 28 * 28)\n",
        "        x = torch.relu(self.fc1(x))\n",
        "        x = torch.relu(self.fc2(x))\n",
        "        x = self.fc3(x)\n",
        "        return x\n",
        "\n",
        "# Initialize the neural network\n",
        "model = MLP()"
      ],
      "metadata": {
        "id": "63mckSIfTGg9"
      },
      "execution_count": 17,
      "outputs": []
    },
    {
      "cell_type": "code",
      "source": [
        "model2 = MLP()\n",
        "optimizer2 = optim.SGD(model2.parameters(), lr=0.01, weight_decay=0.01)\n",
        "criterion2 = nn.CrossEntropyLoss()\n"
      ],
      "metadata": {
        "id": "75RVqFWITGk1"
      },
      "execution_count": 18,
      "outputs": []
    },
    {
      "cell_type": "code",
      "source": [
        "# Train the neural network\n",
        "num_epochs = 7\n",
        "for epoch in range(num_epochs):\n",
        "    model2.train()\n",
        "    running_loss = 0.0\n",
        "    for i, data in enumerate(train_loader, 0):\n",
        "        inputs, labels = data\n",
        "        optimizer2.zero_grad()\n",
        "        outputs = model2(inputs)\n",
        "        loss = criterion2(outputs, labels)\n",
        "        loss.backward()\n",
        "        optimizer2.step()\n",
        "        running_loss += loss.item()\n",
        "        if i % 100 == 99:  # print every 100 mini-batches\n",
        "            print(f'Epoch {epoch + 1}, Batch {i + 1}, Loss: {running_loss / 100}')\n",
        "            running_loss = 0.0\n",
        "\n",
        "print('Finished Training')"
      ],
      "metadata": {
        "colab": {
          "base_uri": "https://localhost:8080/"
        },
        "id": "V2qh-OadTGqG",
        "outputId": "a4dc9126-e41e-4bb6-db58-b85c2a70b6a6"
      },
      "execution_count": 19,
      "outputs": [
        {
          "output_type": "stream",
          "name": "stdout",
          "text": [
            "Epoch 1, Batch 100, Loss: 2.244281165599823\n",
            "Epoch 1, Batch 200, Loss: 2.0568858551979066\n",
            "Epoch 1, Batch 300, Loss: 1.6924651432037354\n",
            "Epoch 1, Batch 400, Loss: 1.2684204578399658\n",
            "Epoch 1, Batch 500, Loss: 0.947260314822197\n",
            "Epoch 1, Batch 600, Loss: 0.7532345169782638\n",
            "Epoch 1, Batch 700, Loss: 0.6346680644154549\n",
            "Epoch 1, Batch 800, Loss: 0.5397461381554604\n",
            "Epoch 1, Batch 900, Loss: 0.5266528370976448\n",
            "Epoch 2, Batch 100, Loss: 0.4790920287370682\n",
            "Epoch 2, Batch 200, Loss: 0.4732007747888565\n",
            "Epoch 2, Batch 300, Loss: 0.4451945844292641\n",
            "Epoch 2, Batch 400, Loss: 0.4162511552870274\n",
            "Epoch 2, Batch 500, Loss: 0.4163705894351006\n",
            "Epoch 2, Batch 600, Loss: 0.4000797832012177\n",
            "Epoch 2, Batch 700, Loss: 0.3991710115969181\n",
            "Epoch 2, Batch 800, Loss: 0.4042848074436188\n",
            "Epoch 2, Batch 900, Loss: 0.3868946979939938\n",
            "Epoch 3, Batch 100, Loss: 0.37433005005121234\n",
            "Epoch 3, Batch 200, Loss: 0.38109793305397033\n",
            "Epoch 3, Batch 300, Loss: 0.3706762583553791\n",
            "Epoch 3, Batch 400, Loss: 0.353472214192152\n",
            "Epoch 3, Batch 500, Loss: 0.35979842245578764\n",
            "Epoch 3, Batch 600, Loss: 0.36715546220541\n",
            "Epoch 3, Batch 700, Loss: 0.3540944240987301\n",
            "Epoch 3, Batch 800, Loss: 0.33386424839496615\n",
            "Epoch 3, Batch 900, Loss: 0.36276682481169703\n",
            "Epoch 4, Batch 100, Loss: 0.3492590075731277\n",
            "Epoch 4, Batch 200, Loss: 0.3348235648870468\n",
            "Epoch 4, Batch 300, Loss: 0.34488715678453447\n",
            "Epoch 4, Batch 400, Loss: 0.3456055937707424\n",
            "Epoch 4, Batch 500, Loss: 0.3251129071414471\n",
            "Epoch 4, Batch 600, Loss: 0.32515124246478083\n",
            "Epoch 4, Batch 700, Loss: 0.3424075286090374\n",
            "Epoch 4, Batch 800, Loss: 0.3312681083381176\n",
            "Epoch 4, Batch 900, Loss: 0.32705549597740174\n",
            "Epoch 5, Batch 100, Loss: 0.3283363159000874\n",
            "Epoch 5, Batch 200, Loss: 0.30522662937641143\n",
            "Epoch 5, Batch 300, Loss: 0.31609637193381784\n",
            "Epoch 5, Batch 400, Loss: 0.32890924006700517\n",
            "Epoch 5, Batch 500, Loss: 0.31036781296134\n",
            "Epoch 5, Batch 600, Loss: 0.3286084687709808\n",
            "Epoch 5, Batch 700, Loss: 0.3168064337223768\n",
            "Epoch 5, Batch 800, Loss: 0.32599681839346883\n",
            "Epoch 5, Batch 900, Loss: 0.3088276126980782\n",
            "Epoch 6, Batch 100, Loss: 0.3089851076900959\n",
            "Epoch 6, Batch 200, Loss: 0.32261403009295464\n",
            "Epoch 6, Batch 300, Loss: 0.3067667451500893\n",
            "Epoch 6, Batch 400, Loss: 0.31520127043128016\n",
            "Epoch 6, Batch 500, Loss: 0.2990970128029585\n",
            "Epoch 6, Batch 600, Loss: 0.282496395483613\n",
            "Epoch 6, Batch 700, Loss: 0.298981012403965\n",
            "Epoch 6, Batch 800, Loss: 0.29582716792821884\n",
            "Epoch 6, Batch 900, Loss: 0.3024241074919701\n",
            "Epoch 7, Batch 100, Loss: 0.29607146739959717\n",
            "Epoch 7, Batch 200, Loss: 0.297750910744071\n",
            "Epoch 7, Batch 300, Loss: 0.29398404218256474\n",
            "Epoch 7, Batch 400, Loss: 0.2958137859404087\n",
            "Epoch 7, Batch 500, Loss: 0.2929373550415039\n",
            "Epoch 7, Batch 600, Loss: 0.2958470610529184\n",
            "Epoch 7, Batch 700, Loss: 0.29335246592760084\n",
            "Epoch 7, Batch 800, Loss: 0.2905676177889109\n",
            "Epoch 7, Batch 900, Loss: 0.27997432470321654\n",
            "Finished Training\n"
          ]
        }
      ]
    },
    {
      "cell_type": "code",
      "source": [
        "# Evaluate the model test\n",
        "model2.eval()\n",
        "correct = 0\n",
        "total = 0\n",
        "with torch.no_grad():\n",
        "    for data in test_loader:\n",
        "        images, labels = data\n",
        "        outputs = model2(images)\n",
        "        _, predicted = torch.max(outputs.data, 1)\n",
        "        total += labels.size(0)\n",
        "        correct += (predicted == labels).sum().item()\n",
        "\n",
        "print(f'Accuracy on test set: { correct / total * 100}%')\n",
        "\n",
        "\n",
        "# Evaluate the model train\n",
        "model2.eval()\n",
        "correct = 0\n",
        "total = 0\n",
        "with torch.no_grad():\n",
        "    for data in train_loader:\n",
        "        images, labels = data\n",
        "        outputs = model2(images)\n",
        "        _, predicted = torch.max(outputs.data, 1)\n",
        "        total += labels.size(0)\n",
        "        correct += (predicted == labels).sum().item()\n",
        "\n",
        "print(f'Accuracy on train set: { correct / total * 100}%')"
      ],
      "metadata": {
        "colab": {
          "base_uri": "https://localhost:8080/"
        },
        "id": "RoOVA1gFcbWP",
        "outputId": "c75e9f42-2c27-4dc6-e863-dbeac792619f"
      },
      "execution_count": 20,
      "outputs": [
        {
          "output_type": "stream",
          "name": "stdout",
          "text": [
            "Accuracy on test set: 91.09833333333334%\n",
            "Accuracy on train set: 91.47333333333333%\n"
          ]
        }
      ]
    },
    {
      "cell_type": "code",
      "source": [
        "# Evaluate the model and store predictions\n",
        "model2.eval()\n",
        "predictions2 = []\n",
        "correct = 0\n",
        "total = 0\n",
        "with torch.no_grad():\n",
        "    for data in test_loader:\n",
        "        images, labels = data\n",
        "        outputs = model2(images)\n",
        "        _, predicted = torch.max(outputs.data, 1)\n",
        "        predictions2.extend(predicted.numpy())\n",
        "        total += labels.size(0)\n",
        "        correct += (predicted == labels).sum().item()"
      ],
      "metadata": {
        "id": "GepDM3Dvcneo"
      },
      "execution_count": 21,
      "outputs": []
    },
    {
      "cell_type": "code",
      "source": [
        "import random\n",
        "import matplotlib.pyplot as plt\n",
        "\n",
        "# Get a random index for the test data\n",
        "random_index = random.randint(0, len(test_dataset) - 1)\n",
        "\n",
        "# Get the image and label at the random index\n",
        "image, label = test_dataset[random_index]\n",
        "\n",
        "# Reshape the image tensor to a 28x28 shape\n",
        "image = image.view(28, 28)\n",
        "\n",
        "# Convert the image tensor to a numpy array for visualization\n",
        "image_numpy = image.numpy()\n",
        "\n",
        "# Assuming 'predictions' contains the predicted labels for the test data\n",
        "predicted_label1 = predictions2[random_index]\n",
        "\n",
        "# Display the image with both predicted and actual labels\n",
        "plt.imshow(image_numpy, cmap='gray')\n",
        "plt.title(f'Predicted Label: {predicted_label1}, Actual Label: {label}')\n",
        "plt.axis('off')\n",
        "plt.show()\n"
      ],
      "metadata": {
        "colab": {
          "base_uri": "https://localhost:8080/",
          "height": 428
        },
        "id": "K392tHCUcoQ0",
        "outputId": "e27becc0-4363-4906-c124-dc29c7a409d6"
      },
      "execution_count": 22,
      "outputs": [
        {
          "output_type": "display_data",
          "data": {
            "text/plain": [
              "<Figure size 640x480 with 1 Axes>"
            ],
            "image/png": "[encoded data removed]"
          },
          "metadata": {}
        }
      ]
    },
    {
      "cell_type": "markdown",
      "source": [
        "1. We observe a drop in accuracy when we use SGD in Optimizer"
      ],
      "metadata": {
        "id": "idCdRHA5NMiZ"
      }
    },
    {
      "cell_type": "markdown",
      "source": [
        "**2. Model with RMSProp Optimizer**"
      ],
      "metadata": {
        "id": "MbE8ROz1NwQd"
      }
    },
    {
      "cell_type": "code",
      "source": [
        "model3 = MLP()\n",
        "optimizer3 = optim.RMSprop(model3.parameters(), lr=0.001)\n",
        "criterion3 = nn.CrossEntropyLoss()\n"
      ],
      "metadata": {
        "id": "r1cz0cBHTGuA"
      },
      "execution_count": 23,
      "outputs": []
    },
    {
      "cell_type": "code",
      "source": [
        "# Train the neural network\n",
        "num_epochs = 5\n",
        "for epoch in range(num_epochs):\n",
        "    model3.train()\n",
        "    running_loss = 0.0\n",
        "    for i, data in enumerate(train_loader, 0):\n",
        "        inputs, labels = data\n",
        "        optimizer3.zero_grad()\n",
        "        outputs = model3(inputs)\n",
        "        loss = criterion3(outputs, labels)\n",
        "        loss.backward()\n",
        "        optimizer3.step()\n",
        "        running_loss += loss.item()\n",
        "        if i % 100 == 99:  # print every 100 mini-batches\n",
        "            print(f'Epoch {epoch + 1}, Batch {i + 1}, Loss: {running_loss / 100}')\n",
        "            running_loss = 0.0\n",
        "\n",
        "print('Finished Training')"
      ],
      "metadata": {
        "colab": {
          "base_uri": "https://localhost:8080/"
        },
        "id": "G5It8fD4TGyv",
        "outputId": "aecc7c17-09fd-4367-f7df-2a35a9c278e5"
      },
      "execution_count": 24,
      "outputs": [
        {
          "output_type": "stream",
          "name": "stdout",
          "text": [
            "Epoch 1, Batch 100, Loss: 1.0030511647462845\n",
            "Epoch 1, Batch 200, Loss: 0.4657470659911633\n",
            "Epoch 1, Batch 300, Loss: 0.40073780983686447\n",
            "Epoch 1, Batch 400, Loss: 0.3570517203956842\n",
            "Epoch 1, Batch 500, Loss: 0.31004454761743544\n",
            "Epoch 1, Batch 600, Loss: 0.2983429328352213\n",
            "Epoch 1, Batch 700, Loss: 0.2789150802791119\n",
            "Epoch 1, Batch 800, Loss: 0.26788874201476576\n",
            "Epoch 1, Batch 900, Loss: 0.2305739314109087\n",
            "Epoch 2, Batch 100, Loss: 0.20252871863543986\n",
            "Epoch 2, Batch 200, Loss: 0.22042874533683063\n",
            "Epoch 2, Batch 300, Loss: 0.2039287183433771\n",
            "Epoch 2, Batch 400, Loss: 0.18686953738331794\n",
            "Epoch 2, Batch 500, Loss: 0.1998711209371686\n",
            "Epoch 2, Batch 600, Loss: 0.17460724709555506\n",
            "Epoch 2, Batch 700, Loss: 0.17179985970258713\n",
            "Epoch 2, Batch 800, Loss: 0.16393643368035554\n",
            "Epoch 2, Batch 900, Loss: 0.16767151262611152\n",
            "Epoch 3, Batch 100, Loss: 0.1488129454664886\n",
            "Epoch 3, Batch 200, Loss: 0.13705169696360828\n",
            "Epoch 3, Batch 300, Loss: 0.13447573402896523\n",
            "Epoch 3, Batch 400, Loss: 0.1407529971189797\n",
            "Epoch 3, Batch 500, Loss: 0.12344315445050597\n",
            "Epoch 3, Batch 600, Loss: 0.13299498181790115\n",
            "Epoch 3, Batch 700, Loss: 0.15191653231158853\n",
            "Epoch 3, Batch 800, Loss: 0.12819941414520145\n",
            "Epoch 3, Batch 900, Loss: 0.145462181661278\n",
            "Epoch 4, Batch 100, Loss: 0.10659868448972702\n",
            "Epoch 4, Batch 200, Loss: 0.12125913991592824\n",
            "Epoch 4, Batch 300, Loss: 0.11386730553582311\n",
            "Epoch 4, Batch 400, Loss: 0.10499006030149757\n",
            "Epoch 4, Batch 500, Loss: 0.1079214356187731\n",
            "Epoch 4, Batch 600, Loss: 0.12216591571457684\n",
            "Epoch 4, Batch 700, Loss: 0.1169828979857266\n",
            "Epoch 4, Batch 800, Loss: 0.10008988966234028\n",
            "Epoch 4, Batch 900, Loss: 0.11081636066548527\n",
            "Epoch 5, Batch 100, Loss: 0.09371870977804064\n",
            "Epoch 5, Batch 200, Loss: 0.08739019895903766\n",
            "Epoch 5, Batch 300, Loss: 0.09347948311828076\n",
            "Epoch 5, Batch 400, Loss: 0.09783614093437791\n",
            "Epoch 5, Batch 500, Loss: 0.09043519228696822\n",
            "Epoch 5, Batch 600, Loss: 0.09739431547932327\n",
            "Epoch 5, Batch 700, Loss: 0.08928827738389372\n",
            "Epoch 5, Batch 800, Loss: 0.09447989930398762\n",
            "Epoch 5, Batch 900, Loss: 0.10219251066911966\n",
            "Finished Training\n"
          ]
        }
      ]
    },
    {
      "cell_type": "code",
      "source": [
        "# Evaluate the model test\n",
        "model3.eval()\n",
        "correct = 0\n",
        "total = 0\n",
        "with torch.no_grad():\n",
        "    for data in test_loader:\n",
        "        images, labels = data\n",
        "        outputs = model3(images)\n",
        "        _, predicted = torch.max(outputs.data, 1)\n",
        "        total += labels.size(0)\n",
        "        correct += (predicted == labels).sum().item()\n",
        "\n",
        "print(f'Accuracy on test set: { correct / total *100}%')\n",
        "\n",
        "\n",
        "# Evaluate the model train\n",
        "model3.eval()\n",
        "correct = 0\n",
        "total = 0\n",
        "with torch.no_grad():\n",
        "    for data in train_loader:\n",
        "        images, labels = data\n",
        "        outputs = model3(images)\n",
        "        _, predicted = torch.max(outputs.data, 1)\n",
        "        total += labels.size(0)\n",
        "        correct += (predicted == labels).sum().item()\n",
        "\n",
        "print(f'Accuracy on train set: { correct / total *100}%')"
      ],
      "metadata": {
        "colab": {
          "base_uri": "https://localhost:8080/"
        },
        "id": "BbtHSkYQTG25",
        "outputId": "1ebf9499-3107-45d3-eb62-1704410275f7"
      },
      "execution_count": 25,
      "outputs": [
        {
          "output_type": "stream",
          "name": "stdout",
          "text": [
            "Accuracy on test set: 95.66833333333334%\n",
            "Accuracy on train set: 96.73833333333334%\n"
          ]
        }
      ]
    },
    {
      "cell_type": "code",
      "source": [
        "# Evaluate the model and store predictions\n",
        "model3.eval()\n",
        "predictions3 = []\n",
        "correct = 0\n",
        "total = 0\n",
        "with torch.no_grad():\n",
        "    for data in test_loader:\n",
        "        images, labels = data\n",
        "        outputs = model3(images)\n",
        "        _, predicted = torch.max(outputs.data, 1)\n",
        "        predictions3.extend(predicted.numpy())\n",
        "        total += labels.size(0)\n",
        "        correct += (predicted == labels).sum().item()"
      ],
      "metadata": {
        "id": "ugJD_zMmTG7K"
      },
      "execution_count": 26,
      "outputs": []
    },
    {
      "cell_type": "code",
      "source": [
        "import random\n",
        "import matplotlib.pyplot as plt\n",
        "\n",
        "# Get a random index for the test data\n",
        "random_index = random.randint(0, len(test_dataset) - 1)\n",
        "\n",
        "# Get the image and label at the random index\n",
        "image, label = test_dataset[random_index]\n",
        "\n",
        "# Reshape the image tensor to a 28x28 shape\n",
        "image = image.view(28, 28)\n",
        "\n",
        "# Convert the image tensor to a numpy array for visualization\n",
        "image_numpy = image.numpy()\n",
        "\n",
        "# Assuming 'predictions' contains the predicted labels for the test data\n",
        "predicted_label1 = predictions3[random_index]\n",
        "\n",
        "# Display the image with both predicted and actual labels\n",
        "plt.imshow(image_numpy, cmap='gray')\n",
        "plt.title(f'Predicted Label: {predicted_label1}, Actual Label: {label}')\n",
        "plt.axis('off')\n",
        "plt.show()\n"
      ],
      "metadata": {
        "colab": {
          "base_uri": "https://localhost:8080/",
          "height": 428
        },
        "id": "gCsX5KERTG-9",
        "outputId": "9f94362f-a152-4550-ddb6-74bd97024a17"
      },
      "execution_count": 27,
      "outputs": [
        {
          "output_type": "display_data",
          "data": {
            "text/plain": [
              "<Figure size 640x480 with 1 Axes>"
            ],
            "image/png": "[encoded data removed]"
          },
          "metadata": {}
        }
      ]
    },
    {
      "cell_type": "markdown",
      "source": [
        "There is an increase in accuracy of the test data and a slight increase in the accuracy on train data when we use RMSProp optimizer"
      ],
      "metadata": {
        "id": "Bp64AWhtPwTX"
      }
    },
    {
      "cell_type": "markdown",
      "source": [
        "**3. Model with Dropout**"
      ],
      "metadata": {
        "id": "MIOhprQlRarQ"
      }
    },
    {
      "cell_type": "code",
      "source": [
        "# Define the neural network architecture\n",
        "class MLP4(nn.Module):\n",
        "    def __init__(self):\n",
        "        super(MLP4, self).__init__()\n",
        "        self.fc1 = nn.Linear(28 * 28, 128)\n",
        "        self.fc2 = nn.Linear(128, 64)\n",
        "        self.fc3 = nn.Linear(64, 10)\n",
        "        self.dropout = nn.Dropout(0.2)  # Dropout layer with 20% dropout rate\n",
        "\n",
        "    def forward(self, x):\n",
        "        x = x.view(-1, 28 * 28)\n",
        "        x = torch.relu(self.fc1(x))\n",
        "        x = self.dropout(x)  # Apply dropout after the first hidden layer\n",
        "        x = torch.relu(self.fc2(x))\n",
        "        x = self.dropout(x)  # Apply dropout after the second hidden layer\n",
        "        x = self.fc3(x)\n",
        "        return x\n",
        "\n",
        "# Initialize the neural network\n",
        "model4 = MLP4()\n"
      ],
      "metadata": {
        "id": "JjIOz0QWTHDT"
      },
      "execution_count": 28,
      "outputs": []
    },
    {
      "cell_type": "code",
      "source": [
        "# Define the loss function and optimizer\n",
        "criterion4 = nn.CrossEntropyLoss()\n",
        "optimizer4 = optim.SGD(model4.parameters(), lr=0.001)\n",
        "\n",
        "# Train the neural network\n",
        "num_epochs = 5\n",
        "for epoch in range(num_epochs):\n",
        "    model4.train()\n",
        "    running_loss = 0.0\n",
        "    for i, data in enumerate(train_loader, 0):\n",
        "        inputs, labels = data\n",
        "        optimizer4.zero_grad()\n",
        "        outputs = model4(inputs)\n",
        "        loss = criterion4(outputs, labels)\n",
        "        loss.backward()\n",
        "        optimizer4.step()\n",
        "        running_loss += loss.item()\n",
        "        if i % 100 == 99:  # print every 100 mini-batches\n",
        "            print(f'Epoch {epoch + 1}, Batch {i + 1}, Loss: {running_loss / 100}')\n",
        "            running_loss = 0.0\n",
        "\n",
        "print('Finished Training')"
      ],
      "metadata": {
        "id": "NJfeceRXTHHC",
        "colab": {
          "base_uri": "https://localhost:8080/"
        },
        "outputId": "957d2be8-549e-4f9e-bdd9-f30e8ba89965"
      },
      "execution_count": 29,
      "outputs": [
        {
          "output_type": "stream",
          "name": "stdout",
          "text": [
            "Epoch 1, Batch 100, Loss: 2.3066735577583315\n",
            "Epoch 1, Batch 200, Loss: 2.2945919942855837\n",
            "Epoch 1, Batch 300, Loss: 2.2850359177589414\n",
            "Epoch 1, Batch 400, Loss: 2.27483829498291\n",
            "Epoch 1, Batch 500, Loss: 2.2634978008270266\n",
            "Epoch 1, Batch 600, Loss: 2.2508979082107543\n",
            "Epoch 1, Batch 700, Loss: 2.237309167385101\n",
            "Epoch 1, Batch 800, Loss: 2.2269885206222533\n",
            "Epoch 1, Batch 900, Loss: 2.214768388271332\n",
            "Epoch 2, Batch 100, Loss: 2.1881572723388674\n",
            "Epoch 2, Batch 200, Loss: 2.1705094265937803\n",
            "Epoch 2, Batch 300, Loss: 2.1561023211479187\n",
            "Epoch 2, Batch 400, Loss: 2.1340034914016726\n",
            "Epoch 2, Batch 500, Loss: 2.1112449288368227\n",
            "Epoch 2, Batch 600, Loss: 2.0939733672142027\n",
            "Epoch 2, Batch 700, Loss: 2.061858263015747\n",
            "Epoch 2, Batch 800, Loss: 2.03301726937294\n",
            "Epoch 2, Batch 900, Loss: 2.009990894794464\n",
            "Epoch 3, Batch 100, Loss: 1.958755373954773\n",
            "Epoch 3, Batch 200, Loss: 1.927768396139145\n",
            "Epoch 3, Batch 300, Loss: 1.8911981534957887\n",
            "Epoch 3, Batch 400, Loss: 1.8453304362297058\n",
            "Epoch 3, Batch 500, Loss: 1.8120865845680236\n",
            "Epoch 3, Batch 600, Loss: 1.7734646272659302\n",
            "Epoch 3, Batch 700, Loss: 1.7264427137374878\n",
            "Epoch 3, Batch 800, Loss: 1.6685835468769072\n",
            "Epoch 3, Batch 900, Loss: 1.63942600607872\n",
            "Epoch 4, Batch 100, Loss: 1.583011692762375\n",
            "Epoch 4, Batch 200, Loss: 1.543023045063019\n",
            "Epoch 4, Batch 300, Loss: 1.4936559307575226\n",
            "Epoch 4, Batch 400, Loss: 1.4534844517707826\n",
            "Epoch 4, Batch 500, Loss: 1.4263859939575196\n",
            "Epoch 4, Batch 600, Loss: 1.381675705909729\n",
            "Epoch 4, Batch 700, Loss: 1.3469276738166809\n",
            "Epoch 4, Batch 800, Loss: 1.319232028722763\n",
            "Epoch 4, Batch 900, Loss: 1.283024846315384\n",
            "Epoch 5, Batch 100, Loss: 1.238088492155075\n",
            "Epoch 5, Batch 200, Loss: 1.2297666770219804\n",
            "Epoch 5, Batch 300, Loss: 1.1722881072759628\n",
            "Epoch 5, Batch 400, Loss: 1.1512289673089982\n",
            "Epoch 5, Batch 500, Loss: 1.137824604511261\n",
            "Epoch 5, Batch 600, Loss: 1.099466069340706\n",
            "Epoch 5, Batch 700, Loss: 1.0887544018030166\n",
            "Epoch 5, Batch 800, Loss: 1.074283789396286\n",
            "Epoch 5, Batch 900, Loss: 1.0320146226882934\n",
            "Finished Training\n"
          ]
        }
      ]
    },
    {
      "cell_type": "code",
      "source": [
        "# Evaluate the model test\n",
        "model4.eval()\n",
        "correct = 0\n",
        "total = 0\n",
        "with torch.no_grad():\n",
        "    for data in test_loader:\n",
        "        images, labels = data\n",
        "        outputs = model4(images)\n",
        "        _, predicted = torch.max(outputs.data, 1)\n",
        "        total += labels.size(0)\n",
        "        correct += (predicted == labels).sum().item()\n",
        "\n",
        "print(f'Accuracy on test set: { correct / total *100}%')\n",
        "\n",
        "\n",
        "# Evaluate the model train\n",
        "model4.eval()\n",
        "correct = 0\n",
        "total = 0\n",
        "with torch.no_grad():\n",
        "    for data in train_loader:\n",
        "        images, labels = data\n",
        "        outputs = model4(images)\n",
        "        _, predicted = torch.max(outputs.data, 1)\n",
        "        total += labels.size(0)\n",
        "        correct += (predicted == labels).sum().item()\n",
        "\n",
        "print(f'Accuracy on train set: { correct / total *100}%')"
      ],
      "metadata": {
        "id": "yk602z8DTHLE",
        "colab": {
          "base_uri": "https://localhost:8080/"
        },
        "outputId": "c1422d8a-ef62-49e6-9da7-25b348b79bae"
      },
      "execution_count": 30,
      "outputs": [
        {
          "output_type": "stream",
          "name": "stdout",
          "text": [
            "Accuracy on test set: 80.80333333333334%\n",
            "Accuracy on train set: 80.82833333333333%\n"
          ]
        }
      ]
    },
    {
      "cell_type": "code",
      "source": [
        "# Evaluate the model and store predictions\n",
        "model4.eval()\n",
        "predictions4 = []\n",
        "correct = 0\n",
        "total = 0\n",
        "with torch.no_grad():\n",
        "    for data in test_loader:\n",
        "        images, labels = data\n",
        "        outputs = model4(images)\n",
        "        _, predicted = torch.max(outputs.data, 1)\n",
        "        predictions4.extend(predicted.numpy())\n",
        "        total += labels.size(0)\n",
        "        correct += (predicted == labels).sum().item()"
      ],
      "metadata": {
        "id": "ExZzc0DKzqow"
      },
      "execution_count": 31,
      "outputs": []
    },
    {
      "cell_type": "code",
      "source": [
        "import random\n",
        "import matplotlib.pyplot as plt\n",
        "\n",
        "# Get a random index for the test data\n",
        "random_index = random.randint(0, len(test_dataset) - 1)\n",
        "\n",
        "# Get the image and label at the random index\n",
        "image, label = test_dataset[random_index]\n",
        "\n",
        "# Reshape the image tensor to a 28x28 shape\n",
        "image = image.view(28, 28)\n",
        "\n",
        "# Convert the image tensor to a numpy array for visualization\n",
        "image_numpy = image.numpy()\n",
        "\n",
        "# Assuming 'predictions' contains the predicted labels for the test data\n",
        "predicted_label1 = predictions4[random_index]\n",
        "\n",
        "# Display the image with both predicted and actual labels\n",
        "plt.imshow(image_numpy, cmap='gray')\n",
        "plt.title(f'Predicted Label: {predicted_label1}, Actual Label: {label}')\n",
        "plt.axis('off')\n",
        "plt.show()\n"
      ],
      "metadata": {
        "colab": {
          "base_uri": "https://localhost:8080/",
          "height": 428
        },
        "id": "b79DfThozqsS",
        "outputId": "f2ccd398-2441-4acb-a0c3-db4b76f6b2cc"
      },
      "execution_count": 32,
      "outputs": [
        {
          "output_type": "display_data",
          "data": {
            "text/plain": [
              "<Figure size 640x480 with 1 Axes>"
            ],
            "image/png": "[encoded data removed]"
          },
          "metadata": {}
        }
      ]
    },
    {
      "cell_type": "markdown",
      "source": [
        "**4. We increase the number of nodes, use dropout and LeakyRelu**"
      ],
      "metadata": {
        "id": "Xr6p0dYj1eTI"
      }
    },
    {
      "cell_type": "code",
      "source": [
        "import torch.nn.functional as F\n",
        "\n",
        "class MLP5(nn.Module):\n",
        "    def __init__(self):\n",
        "        super(MLP5, self).__init__()\n",
        "        self.fc1 = nn.Linear(28 * 28, 256)\n",
        "        self.fc2 = nn.Linear(256, 128)\n",
        "        self.fc3 = nn.Linear(128,64)\n",
        "        self.fc4 = nn.Linear(64, 10)\n",
        "        self.dropout = nn.Dropout(0.2)  # Add dropout layer with 20% dropout rate\n",
        "\n",
        "    def forward(self, x):\n",
        "        x = x.view(-1, 28 * 28)\n",
        "        x = F.leaky_relu(self.fc1(x), negative_slope=0.01)  # LeakyReLU activation\n",
        "        x = self.dropout(x)  # Apply dropout\n",
        "        x = F.leaky_relu(self.fc2(x), negative_slope=0.01)\n",
        "        x = F.leaky_relu(self.fc3(x), negative_slope=0.01)\n",
        "        x = self.fc4(x)\n",
        "        return x\n",
        "\n",
        "# Initialize the neural network\n",
        "model5 = MLP5()\n",
        "\n",
        "\n",
        "criterion5 = nn.CrossEntropyLoss()\n",
        "\n",
        "# Initialize the optimizer (Adam)\n",
        "optimizer5 = optim.Adam(model5.parameters(), lr=0.01)"
      ],
      "metadata": {
        "id": "eHCMBePczqv3"
      },
      "execution_count": 33,
      "outputs": []
    },
    {
      "cell_type": "code",
      "source": [
        "# Train the neural network\n",
        "num_epochs = 5\n",
        "for epoch in range(num_epochs):\n",
        "    model5.train()\n",
        "    running_loss = 0.0\n",
        "    for i, data in enumerate(train_loader, 0):\n",
        "        inputs, labels = data\n",
        "        optimizer5.zero_grad()\n",
        "        outputs = model5(inputs)\n",
        "        loss = criterion5(outputs, labels)\n",
        "        loss.backward()\n",
        "        optimizer5.step()\n",
        "        running_loss += loss.item()\n",
        "        if i % 100 == 99:  # print every 100 mini-batches\n",
        "            print(f'Epoch {epoch + 1}, Batch {i + 1}, Loss: {running_loss / 100}')\n",
        "            running_loss = 0.0\n",
        "\n",
        "print('Finished Training')"
      ],
      "metadata": {
        "colab": {
          "base_uri": "https://localhost:8080/"
        },
        "id": "-R84ZLtLzqzJ",
        "outputId": "df0a0867-9c81-4a3e-84ad-e9ed350657c3"
      },
      "execution_count": 34,
      "outputs": [
        {
          "output_type": "stream",
          "name": "stdout",
          "text": [
            "Epoch 1, Batch 100, Loss: 1.1721206521987915\n",
            "Epoch 1, Batch 200, Loss: 0.60230428814888\n",
            "Epoch 1, Batch 300, Loss: 0.5059666596353054\n",
            "Epoch 1, Batch 400, Loss: 0.49213611736893653\n",
            "Epoch 1, Batch 500, Loss: 0.4669164103269577\n",
            "Epoch 1, Batch 600, Loss: 0.43216299831867216\n",
            "Epoch 1, Batch 700, Loss: 0.41238064229488375\n",
            "Epoch 1, Batch 800, Loss: 0.4263108290731907\n",
            "Epoch 1, Batch 900, Loss: 0.43892010644078255\n",
            "Epoch 2, Batch 100, Loss: 0.4494011063873768\n",
            "Epoch 2, Batch 200, Loss: 0.40394859954714774\n",
            "Epoch 2, Batch 300, Loss: 0.38361657425761225\n",
            "Epoch 2, Batch 400, Loss: 0.3603849769383669\n",
            "Epoch 2, Batch 500, Loss: 0.3911179107427597\n",
            "Epoch 2, Batch 600, Loss: 0.38296796917915343\n",
            "Epoch 2, Batch 700, Loss: 0.3542861558496952\n",
            "Epoch 2, Batch 800, Loss: 0.3570826597511768\n",
            "Epoch 2, Batch 900, Loss: 0.37474393352866175\n",
            "Epoch 3, Batch 100, Loss: 0.3769020116329193\n",
            "Epoch 3, Batch 200, Loss: 0.34281334713101386\n",
            "Epoch 3, Batch 300, Loss: 0.34482656031847\n",
            "Epoch 3, Batch 400, Loss: 0.34084878250956535\n",
            "Epoch 3, Batch 500, Loss: 0.35101289123296736\n",
            "Epoch 3, Batch 600, Loss: 0.4314616409689188\n",
            "Epoch 3, Batch 700, Loss: 0.42452462889254095\n",
            "Epoch 3, Batch 800, Loss: 0.3244739907234907\n",
            "Epoch 3, Batch 900, Loss: 0.2926068900153041\n",
            "Epoch 4, Batch 100, Loss: 0.30010349534451963\n",
            "Epoch 4, Batch 200, Loss: 0.2902753246948123\n",
            "Epoch 4, Batch 300, Loss: 0.2656311059743166\n",
            "Epoch 4, Batch 400, Loss: 0.31132202215492727\n",
            "Epoch 4, Batch 500, Loss: 0.29165452502667905\n",
            "Epoch 4, Batch 600, Loss: 0.30782155476510525\n",
            "Epoch 4, Batch 700, Loss: 0.2614649324119091\n",
            "Epoch 4, Batch 800, Loss: 0.24484173275530338\n",
            "Epoch 4, Batch 900, Loss: 0.24559699971228838\n",
            "Epoch 5, Batch 100, Loss: 0.24291084349155426\n",
            "Epoch 5, Batch 200, Loss: 0.28434604581445455\n",
            "Epoch 5, Batch 300, Loss: 0.2670811166241765\n",
            "Epoch 5, Batch 400, Loss: 0.27260758839547633\n",
            "Epoch 5, Batch 500, Loss: 0.2482955275848508\n",
            "Epoch 5, Batch 600, Loss: 0.24997110940515996\n",
            "Epoch 5, Batch 700, Loss: 0.2539119142666459\n",
            "Epoch 5, Batch 800, Loss: 0.2356163740903139\n",
            "Epoch 5, Batch 900, Loss: 0.24375132240355016\n",
            "Finished Training\n"
          ]
        }
      ]
    },
    {
      "cell_type": "code",
      "source": [
        "# Evaluate the model test\n",
        "model5.eval()\n",
        "correct = 0\n",
        "total = 0\n",
        "with torch.no_grad():\n",
        "    for data in test_loader:\n",
        "        images, labels = data\n",
        "        outputs = model5(images)\n",
        "        _, predicted = torch.max(outputs.data, 1)\n",
        "        total += labels.size(0)\n",
        "        correct += (predicted == labels).sum().item()\n",
        "\n",
        "print(f'Accuracy on test set: { correct / total*100}%')\n",
        "\n",
        "\n",
        "# Evaluate the model train\n",
        "model5.eval()\n",
        "correct = 0\n",
        "total = 0\n",
        "with torch.no_grad():\n",
        "    for data in train_loader:\n",
        "        images, labels = data\n",
        "        outputs = model5(images)\n",
        "        _, predicted = torch.max(outputs.data, 1)\n",
        "        total += labels.size(0)\n",
        "        correct += (predicted == labels).sum().item()\n",
        "\n",
        "print(f'Accuracy on train set: { correct / total*100}%')"
      ],
      "metadata": {
        "colab": {
          "base_uri": "https://localhost:8080/"
        },
        "id": "bufouXvCzq2L",
        "outputId": "180edddc-edf0-4efd-dd05-3de135456ccd"
      },
      "execution_count": 35,
      "outputs": [
        {
          "output_type": "stream",
          "name": "stdout",
          "text": [
            "Accuracy on test set: 94.37333333333333%\n",
            "Accuracy on train set: 95.06333333333333%\n"
          ]
        }
      ]
    },
    {
      "cell_type": "code",
      "source": [
        "# Evaluate the model and store predictions\n",
        "model5.eval()\n",
        "predictions5 = []\n",
        "correct = 0\n",
        "total = 0\n",
        "with torch.no_grad():\n",
        "    for data in test_loader:\n",
        "        images, labels = data\n",
        "        outputs = model5(images)\n",
        "        _, predicted = torch.max(outputs.data, 1)\n",
        "        predictions5.extend(predicted.numpy())\n",
        "        total += labels.size(0)\n",
        "        correct += (predicted == labels).sum().item()"
      ],
      "metadata": {
        "id": "lsQRCpgOzq5M"
      },
      "execution_count": 36,
      "outputs": []
    },
    {
      "cell_type": "code",
      "source": [
        "import random\n",
        "import matplotlib.pyplot as plt\n",
        "\n",
        "# Get a random index for the test data\n",
        "random_index = random.randint(0, len(test_dataset) - 1)\n",
        "\n",
        "# Get the image and label at the random index\n",
        "image, label = test_dataset[random_index]\n",
        "\n",
        "# Reshape the image tensor to a 28x28 shape\n",
        "image = image.view(28, 28)\n",
        "\n",
        "# Convert the image tensor to a numpy array for visualization\n",
        "image_numpy = image.numpy()\n",
        "\n",
        "# Assuming 'predictions' contains the predicted labels for the test data\n",
        "predicted_label1 = predictions5[random_index]\n",
        "\n",
        "# Display the image with both predicted and actual labels\n",
        "plt.imshow(image_numpy, cmap='gray')\n",
        "plt.title(f'Predicted Label: {predicted_label1}, Actual Label: {label}')\n",
        "plt.axis('off')\n",
        "plt.show()\n"
      ],
      "metadata": {
        "colab": {
          "base_uri": "https://localhost:8080/",
          "height": 428
        },
        "id": "l0wDjjEAzq7_",
        "outputId": "a305a7ae-3521-4f0c-bb65-1f10ad96b7db"
      },
      "execution_count": 37,
      "outputs": [
        {
          "output_type": "display_data",
          "data": {
            "text/plain": [
              "<Figure size 640x480 with 1 Axes>"
            ],
            "image/png": "[encoded data removed]"
          },
          "metadata": {}
        }
      ]
    },
    {
      "cell_type": "markdown",
      "source": [
        "There are many combinations to experiment with amongst different optimizers, loss functions, dropout, and activation functions. So far we observed that there has been no drastic improvement in the performance of the network.\n",
        "\n",
        "The original neural network configuration without the additional dense layer performed slightly better on the test data compared to the modified version with an extra layer and SGD optimizer model.\n",
        "\n",
        "This suggests that while the additional layer increased the model's capacity to learn complex representations, it did not necessarily translate to improved performance on the test data,"
      ],
      "metadata": {
        "id": "g-Ag3ejSUhSI"
      }
    },
    {
      "cell_type": "code",
      "source": [],
      "metadata": {
        "id": "-5B-BC52zq_m"
      },
      "execution_count": 37,
      "outputs": []
    },
    {
      "cell_type": "markdown",
      "source": [
        "GitHub link:\n",
        "https://github.com/AV-D/Deep-learning-Experiments/tree/main"
      ],
      "metadata": {
        "id": "c1udbYReZOXa"
      }
    },
    {
      "cell_type": "markdown",
      "source": [
        "References:\n",
        "\n",
        "1. https://theneuralblog.com/forward-pass-backpropagation-example/\n",
        "2. Tutorial of Data_255"
      ],
      "metadata": {
        "id": "5n4FZCUxT8AJ"
      }
    }
  ]
}